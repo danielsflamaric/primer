{
 "cells": [
  {
   "cell_type": "code",
   "execution_count": 2,
   "metadata": {},
   "outputs": [],
   "source": [
    "import pandas as pd\n",
    "import numpy as np\n",
    "import pymc3 as pm\n",
    "import statsmodels.api as sm"
   ]
  },
  {
   "cell_type": "markdown",
   "metadata": {},
   "source": [
    "### 1.2.1 What is wrong with the following questions?\n",
    "\n",
    "**a)\n",
    "\"Data show that income and marriage have a high positive correlation. Therefore, your earnings will increase if you get married.\"**\n",
    "\n",
    "*Correlation does not imply causation. Higher income causes marriage, not the other way around.*\n",
    "\n",
    "**b)\n",
    "\"Data show that as the number of fires increase, so does the number of fire fighters. Therefore, to cut down on fires, you should reduce the number of fire fighters.\"**\n",
    "\n",
    "*Number of firefighters is caused by fires, so descreasing the fighters would worsen the situation*\n",
    "\n",
    "**c)\n",
    "\"Data show that people who hurry tend to be late to their meetings. Don't hurry, or you'll be late.\"**\n",
    "\n",
    "*It's tardiness that causes hurry, changing whether or not you hurry won't change lateness.*"
   ]
  },
  {
   "cell_type": "markdown",
   "metadata": {},
   "source": [
    "### 1.2.2 A baseball batter Tim has a better batting average than his teammate Frank. However, someone notices that Frank has a better batting average than Tim against both right-handed and left-handed pitchers. How can this happen? (Present your answer in a table)."
   ]
  },
  {
   "cell_type": "code",
   "execution_count": 5,
   "metadata": {},
   "outputs": [
    {
     "data": {
      "text/html": [
       "<div>\n",
       "<style scoped>\n",
       "    .dataframe tbody tr th:only-of-type {\n",
       "        vertical-align: middle;\n",
       "    }\n",
       "\n",
       "    .dataframe tbody tr th {\n",
       "        vertical-align: top;\n",
       "    }\n",
       "\n",
       "    .dataframe thead th {\n",
       "        text-align: right;\n",
       "    }\n",
       "</style>\n",
       "<table border=\"1\" class=\"dataframe\">\n",
       "  <thead>\n",
       "    <tr style=\"text-align: right;\">\n",
       "      <th></th>\n",
       "      <th>against</th>\n",
       "      <th>tim</th>\n",
       "      <th>frank</th>\n",
       "    </tr>\n",
       "  </thead>\n",
       "  <tbody>\n",
       "    <tr>\n",
       "      <th>0</th>\n",
       "      <td>left</td>\n",
       "      <td>98/100</td>\n",
       "      <td>979/1000</td>\n",
       "    </tr>\n",
       "    <tr>\n",
       "      <th>1</th>\n",
       "      <td>right</td>\n",
       "      <td>5/7</td>\n",
       "      <td>4/7</td>\n",
       "    </tr>\n",
       "    <tr>\n",
       "      <th>2</th>\n",
       "      <td>total</td>\n",
       "      <td>0.962617</td>\n",
       "      <td>0.976167</td>\n",
       "    </tr>\n",
       "  </tbody>\n",
       "</table>\n",
       "</div>"
      ],
      "text/plain": [
       "  against       tim     frank\n",
       "0    left    98/100  979/1000\n",
       "1   right       5/7       4/7\n",
       "2   total  0.962617  0.976167"
      ]
     },
     "execution_count": 5,
     "metadata": {},
     "output_type": "execute_result"
    }
   ],
   "source": [
    "table = pd.DataFrame({\n",
    "    'against': ['left', 'right', 'total'],\n",
    "    'tim': ['98/100', '5/7', 103/107],\n",
    "    'frank': ['979/1000', '4/7', 983/1007]\n",
    "})\n",
    "\n",
    "table"
   ]
  },
  {
   "cell_type": "markdown",
   "metadata": {},
   "source": [
    "### 1.2.3 Determine, for each of the following causal stories, whether you should use the aggregate or the segregated data to determine the true effect.\n",
    "\n",
    "**a)\n",
    "There are two treatments used on kidney stones: Treatment $A$ and Treatment $B$. Doctors are more likely to use Treatment $B$ on small stones. Should a patient who doesn't know the size of his or her stone examine the general population data, or the stone size-specific data when determining which treatment will be more effective?**\n",
    "\n",
    "*The treatment and outcome are affected at the same time by severity, which makes severity a confounder. We should first get a value for severity (size of kidney stone), and use segregated data to decide.*\n",
    "\n",
    "**b)\n",
    "There are two doctors in a small town. Each has performed 100 surgeries in his career, which are of two types: one very difficult surgery and one very easy surgery. The first doctor performs the easy surgery much more often than the difficult surgery and the second doctor performs the difficult surgery more often than the easy surgery. You need surgery, but you do not know whether your case is easy or difficult. Should you consult the success rate of each doctor over all cases, or should you consult their success rates for the easy and difficult cases separately, to maximize the chance of a successful surgery?**\n",
    "\n",
    "*Check both doctors success rate separately. Without knowing what size of kidney stone, it's probably the doctor that does the difficult surgery the best. Easier surgeries are by definition, easier, and even if the easy doctor has a slightly better rate of success, the difficult doctor would still be the choice. Use the segregated data and take into account other things, like the time of practice.*"
   ]
  },
  {
   "cell_type": "markdown",
   "metadata": {},
   "source": [
    "### 1.2.4 In an attempt to estimate the effectiveness of a new drug, a randomized experiment is conducted. In all, 50% of the patients are assigned to receive the new drug and 50% a placebo. A day before the actual experiment, a nurse hands out lollipops to some patients who show signs of depression, mostly among those who have been assigned to treatment the next day (i.e., the nurse's round happened to take her through the treatment-bound ward). Strangely, the experimental data revealed a Simpson's reversal: Although the drug proved benificial to the population as a whole, drug takers were less likely to recover than non-takers, among both lollipop receivers and lollipop nonreceivers. Assuming that lollipop sucking in itself has no effect whatsover on recovery, answer the following questions:\n",
    "\n",
    "**a) Is the drug beneficial to the population as a whole or harmful?**\n",
    "\n",
    "*It's beneficial as a whole, but less effective to people with depression.*\n",
    "\n",
    "**b) Does your answer contradict our gender example, where sex-specific data was deemed more appropriate?**\n",
    "\n",
    "*In the gender example, the aggregated success rate was misleading, as women were more likely to take the drug, and have higher levels of estrogen, which is has an effect on recovery. This means that in that example, the aggregated data was not representative of the population. It was necessary to use it to make sure that the drug was working and not the estrogen levels. In the current example, we have an inverse case; looking at a subpopulation of depressed people. Depression is known to have adverse effect of recovery, but it's not representative of the population, as it affects a small percentage. So it makes sense to use aggregated data instead of segregated.*\n",
    "\n",
    "**c)\n",
    "Draw a graph (informally) that more or less captures the story.**"
   ]
  },
  {
   "cell_type": "code",
   "execution_count": 77,
   "metadata": {},
   "outputs": [
    {
     "data": {
      "image/svg+xml": [
       "<?xml version=\"1.0\" encoding=\"UTF-8\" standalone=\"no\"?>\n",
       "<!DOCTYPE svg PUBLIC \"-//W3C//DTD SVG 1.1//EN\"\n",
       " \"http://www.w3.org/Graphics/SVG/1.1/DTD/svg11.dtd\">\n",
       "<!-- Generated by graphviz version 2.46.1 (20210213.1702)\n",
       " -->\n",
       "<!-- Pages: 1 -->\n",
       "<svg width=\"215pt\" height=\"260pt\"\n",
       " viewBox=\"0.00 0.00 215.04 260.00\" xmlns=\"http://www.w3.org/2000/svg\" xmlns:xlink=\"http://www.w3.org/1999/xlink\">\n",
       "<g id=\"graph0\" class=\"graph\" transform=\"scale(1 1) rotate(0) translate(4 256)\">\n",
       "<polygon fill=\"white\" stroke=\"transparent\" points=\"-4,4 -4,-256 211.04,-256 211.04,4 -4,4\"/>\n",
       "<!-- Receive -->\n",
       "<g id=\"node1\" class=\"node\">\n",
       "<title>Receive</title>\n",
       "<ellipse fill=\"none\" stroke=\"black\" cx=\"164.45\" cy=\"-162\" rx=\"38.99\" ry=\"18\"/>\n",
       "<text text-anchor=\"middle\" x=\"164.45\" y=\"-158.3\" font-family=\"Times,serif\" font-size=\"14.00\">Receive</text>\n",
       "</g>\n",
       "<!-- Take -->\n",
       "<g id=\"node2\" class=\"node\">\n",
       "<title>Take</title>\n",
       "<ellipse fill=\"none\" stroke=\"black\" cx=\"178.45\" cy=\"-90\" rx=\"28.7\" ry=\"18\"/>\n",
       "<text text-anchor=\"middle\" x=\"178.45\" y=\"-86.3\" font-family=\"Times,serif\" font-size=\"14.00\">Take</text>\n",
       "</g>\n",
       "<!-- Receive&#45;&gt;Take -->\n",
       "<g id=\"edge4\" class=\"edge\">\n",
       "<title>Receive&#45;&gt;Take</title>\n",
       "<path fill=\"none\" stroke=\"black\" d=\"M167.83,-144.05C169.38,-136.35 171.24,-127.03 172.97,-118.36\"/>\n",
       "<polygon fill=\"black\" stroke=\"black\" points=\"176.46,-118.77 174.99,-108.28 169.6,-117.39 176.46,-118.77\"/>\n",
       "</g>\n",
       "<!-- Lollipop -->\n",
       "<g id=\"node3\" class=\"node\">\n",
       "<title>Lollipop</title>\n",
       "<ellipse fill=\"none\" stroke=\"black\" cx=\"90.45\" cy=\"-90\" rx=\"40.89\" ry=\"18\"/>\n",
       "<text text-anchor=\"middle\" x=\"90.45\" y=\"-86.3\" font-family=\"Times,serif\" font-size=\"14.00\">Lollipop</text>\n",
       "</g>\n",
       "<!-- Receive&#45;&gt;Lollipop -->\n",
       "<g id=\"edge5\" class=\"edge\">\n",
       "<title>Receive&#45;&gt;Lollipop</title>\n",
       "<path fill=\"none\" stroke=\"black\" d=\"M148.02,-145.46C138.13,-136.11 125.36,-124.02 114.35,-113.62\"/>\n",
       "<polygon fill=\"black\" stroke=\"black\" points=\"116.75,-111.06 107.08,-106.73 111.94,-116.15 116.75,-111.06\"/>\n",
       "</g>\n",
       "<!-- Recovery -->\n",
       "<g id=\"node6\" class=\"node\">\n",
       "<title>Recovery</title>\n",
       "<ellipse fill=\"none\" stroke=\"black\" cx=\"99.45\" cy=\"-18\" rx=\"44.39\" ry=\"18\"/>\n",
       "<text text-anchor=\"middle\" x=\"99.45\" y=\"-14.3\" font-family=\"Times,serif\" font-size=\"14.00\">Recovery</text>\n",
       "</g>\n",
       "<!-- Take&#45;&gt;Recovery -->\n",
       "<g id=\"edge6\" class=\"edge\">\n",
       "<title>Take&#45;&gt;Recovery</title>\n",
       "<path fill=\"none\" stroke=\"black\" d=\"M162.46,-74.83C151.66,-65.27 137.17,-52.43 124.81,-41.48\"/>\n",
       "<polygon fill=\"black\" stroke=\"black\" points=\"126.86,-38.62 117.06,-34.61 122.22,-43.86 126.86,-38.62\"/>\n",
       "</g>\n",
       "<!-- Random -->\n",
       "<g id=\"node4\" class=\"node\">\n",
       "<title>Random</title>\n",
       "<ellipse fill=\"none\" stroke=\"black\" cx=\"164.45\" cy=\"-234\" rx=\"40.89\" ry=\"18\"/>\n",
       "<text text-anchor=\"middle\" x=\"164.45\" y=\"-230.3\" font-family=\"Times,serif\" font-size=\"14.00\">Random</text>\n",
       "</g>\n",
       "<!-- Random&#45;&gt;Receive -->\n",
       "<g id=\"edge1\" class=\"edge\">\n",
       "<title>Random&#45;&gt;Receive</title>\n",
       "<path fill=\"none\" stroke=\"black\" d=\"M164.45,-215.7C164.45,-207.98 164.45,-198.71 164.45,-190.11\"/>\n",
       "<polygon fill=\"black\" stroke=\"black\" points=\"167.95,-190.1 164.45,-180.1 160.95,-190.1 167.95,-190.1\"/>\n",
       "</g>\n",
       "<!-- Depressed -->\n",
       "<g id=\"node5\" class=\"node\">\n",
       "<title>Depressed</title>\n",
       "<ellipse fill=\"none\" stroke=\"black\" cx=\"47.45\" cy=\"-162\" rx=\"47.39\" ry=\"18\"/>\n",
       "<text text-anchor=\"middle\" x=\"47.45\" y=\"-158.3\" font-family=\"Times,serif\" font-size=\"14.00\">Depressed</text>\n",
       "</g>\n",
       "<!-- Depressed&#45;&gt;Lollipop -->\n",
       "<g id=\"edge2\" class=\"edge\">\n",
       "<title>Depressed&#45;&gt;Lollipop</title>\n",
       "<path fill=\"none\" stroke=\"black\" d=\"M57.64,-144.41C62.83,-135.95 69.26,-125.49 75.04,-116.08\"/>\n",
       "<polygon fill=\"black\" stroke=\"black\" points=\"78.08,-117.82 80.33,-107.47 72.11,-114.16 78.08,-117.82\"/>\n",
       "</g>\n",
       "<!-- Depressed&#45;&gt;Recovery -->\n",
       "<g id=\"edge3\" class=\"edge\">\n",
       "<title>Depressed&#45;&gt;Recovery</title>\n",
       "<path fill=\"none\" stroke=\"black\" d=\"M41.47,-144.11C35.95,-125.58 30.03,-95.36 40.45,-72 46.21,-59.07 56.86,-47.98 67.54,-39.34\"/>\n",
       "<polygon fill=\"black\" stroke=\"black\" points=\"69.77,-42.04 75.63,-33.21 65.55,-36.46 69.77,-42.04\"/>\n",
       "</g>\n",
       "</g>\n",
       "</svg>\n"
      ],
      "text/plain": [
       "<graphviz.dot.Digraph at 0x13c314790>"
      ]
     },
     "execution_count": 77,
     "metadata": {},
     "output_type": "execute_result"
    }
   ],
   "source": [
    "from causalgraphicalmodels import CausalGraphicalModel\n",
    "\n",
    "new_drug = CausalGraphicalModel(\n",
    "        nodes = ['Random', 'Depressed', 'Receive', 'Lollipop', 'Take', 'Recovery'],\n",
    "        edges = [('Random', 'Receive'),\n",
    "                 ('Receive', 'Take'),\n",
    "                 ('Receive', 'Lollipop'),\n",
    "                 ('Take', 'Recovery'),\n",
    "                 ('Depressed', 'Lollipop'),\n",
    "                 ('Depressed', 'Recovery')\n",
    "        ]\n",
    ")\n",
    "\n",
    "new_drug.draw()"
   ]
  },
  {
   "cell_type": "markdown",
   "metadata": {},
   "source": [
    "**d) How would you explain the emergence of Simpson's reversal in this story?**\n",
    "\n",
    "*The lollipop takers were despressed, and they were going to be treated. People in the lollipop group would be worse on the drug, because they are depressed. Still, they are a small percentage of the population, so the aggregate success rate of the drug is still good.*\n",
    "\n",
    "**e) Would your answer change if the lollipops were handed out (by the same criterion) a day after the study?**\n",
    "\n",
    "*Only if the drug had an effect on depression rates.*\n",
    "\n",
    "## 1.3 Probability and Statistics**\n",
    "\n",
    "### 1.3.1 Identify the variables and events invoked in the lollipop story of Study question 1.2.4**"
   ]
  },
  {
   "cell_type": "code",
   "execution_count": 7,
   "metadata": {},
   "outputs": [
    {
     "data": {
      "text/html": [
       "<div>\n",
       "<style scoped>\n",
       "    .dataframe tbody tr th:only-of-type {\n",
       "        vertical-align: middle;\n",
       "    }\n",
       "\n",
       "    .dataframe tbody tr th {\n",
       "        vertical-align: top;\n",
       "    }\n",
       "\n",
       "    .dataframe thead th {\n",
       "        text-align: right;\n",
       "    }\n",
       "</style>\n",
       "<table border=\"1\" class=\"dataframe\">\n",
       "  <thead>\n",
       "    <tr style=\"text-align: right;\">\n",
       "      <th></th>\n",
       "      <th>variables</th>\n",
       "      <th>events</th>\n",
       "    </tr>\n",
       "  </thead>\n",
       "  <tbody>\n",
       "    <tr>\n",
       "      <th>0</th>\n",
       "      <td>Random</td>\n",
       "      <td>T, F</td>\n",
       "    </tr>\n",
       "    <tr>\n",
       "      <th>1</th>\n",
       "      <td>Depressed</td>\n",
       "      <td>T, F</td>\n",
       "    </tr>\n",
       "    <tr>\n",
       "      <th>2</th>\n",
       "      <td>Receive</td>\n",
       "      <td>T, F</td>\n",
       "    </tr>\n",
       "    <tr>\n",
       "      <th>3</th>\n",
       "      <td>Lollipop</td>\n",
       "      <td>T, F</td>\n",
       "    </tr>\n",
       "    <tr>\n",
       "      <th>4</th>\n",
       "      <td>Take</td>\n",
       "      <td>T, F</td>\n",
       "    </tr>\n",
       "    <tr>\n",
       "      <th>5</th>\n",
       "      <td>Recovery</td>\n",
       "      <td>T, F</td>\n",
       "    </tr>\n",
       "  </tbody>\n",
       "</table>\n",
       "</div>"
      ],
      "text/plain": [
       "   variables events\n",
       "0     Random   T, F\n",
       "1  Depressed   T, F\n",
       "2    Receive   T, F\n",
       "3   Lollipop   T, F\n",
       "4       Take   T, F\n",
       "5   Recovery   T, F"
      ]
     },
     "execution_count": 7,
     "metadata": {},
     "output_type": "execute_result"
    }
   ],
   "source": [
    "table = pd.DataFrame({\n",
    "    'variables': ['Random', 'Depressed', 'Receive', 'Lollipop', 'Take', 'Recovery'],\n",
    "    'events': ['T, F', 'T, F', 'T, F', 'T, F', 'T, F', 'T, F']\n",
    "})\n",
    "\n",
    "table"
   ]
  },
  {
   "cell_type": "markdown",
   "metadata": {},
   "source": [
    "### 1.3.2 Consider Table 1.5 showing the relationship between gender and education level in the U.S. adult population."
   ]
  },
  {
   "cell_type": "code",
   "execution_count": 21,
   "metadata": {},
   "outputs": [
    {
     "data": {
      "text/html": [
       "<div>\n",
       "<style scoped>\n",
       "    .dataframe tbody tr th:only-of-type {\n",
       "        vertical-align: middle;\n",
       "    }\n",
       "\n",
       "    .dataframe tbody tr th {\n",
       "        vertical-align: top;\n",
       "    }\n",
       "\n",
       "    .dataframe thead th {\n",
       "        text-align: right;\n",
       "    }\n",
       "</style>\n",
       "<table border=\"1\" class=\"dataframe\">\n",
       "  <thead>\n",
       "    <tr style=\"text-align: right;\">\n",
       "      <th></th>\n",
       "      <th>gender</th>\n",
       "      <th>highest education achieved</th>\n",
       "      <th>occurrence</th>\n",
       "    </tr>\n",
       "  </thead>\n",
       "  <tbody>\n",
       "    <tr>\n",
       "      <th>0</th>\n",
       "      <td>male</td>\n",
       "      <td>never finished high school</td>\n",
       "      <td>112</td>\n",
       "    </tr>\n",
       "    <tr>\n",
       "      <th>1</th>\n",
       "      <td>male</td>\n",
       "      <td>high school</td>\n",
       "      <td>231</td>\n",
       "    </tr>\n",
       "    <tr>\n",
       "      <th>2</th>\n",
       "      <td>male</td>\n",
       "      <td>college</td>\n",
       "      <td>595</td>\n",
       "    </tr>\n",
       "    <tr>\n",
       "      <th>3</th>\n",
       "      <td>male</td>\n",
       "      <td>graduate school</td>\n",
       "      <td>242</td>\n",
       "    </tr>\n",
       "    <tr>\n",
       "      <th>4</th>\n",
       "      <td>female</td>\n",
       "      <td>never finished high school</td>\n",
       "      <td>136</td>\n",
       "    </tr>\n",
       "    <tr>\n",
       "      <th>5</th>\n",
       "      <td>female</td>\n",
       "      <td>high school</td>\n",
       "      <td>189</td>\n",
       "    </tr>\n",
       "    <tr>\n",
       "      <th>6</th>\n",
       "      <td>female</td>\n",
       "      <td>college</td>\n",
       "      <td>763</td>\n",
       "    </tr>\n",
       "    <tr>\n",
       "      <th>7</th>\n",
       "      <td>female</td>\n",
       "      <td>graduate school</td>\n",
       "      <td>172</td>\n",
       "    </tr>\n",
       "  </tbody>\n",
       "</table>\n",
       "</div>"
      ],
      "text/plain": [
       "   gender  highest education achieved  occurrence\n",
       "0    male  never finished high school         112\n",
       "1    male                 high school         231\n",
       "2    male                     college         595\n",
       "3    male             graduate school         242\n",
       "4  female  never finished high school         136\n",
       "5  female                 high school         189\n",
       "6  female                     college         763\n",
       "7  female             graduate school         172"
      ]
     },
     "execution_count": 21,
     "metadata": {},
     "output_type": "execute_result"
    }
   ],
   "source": [
    "table_1p5 = pd.DataFrame({\n",
    "    'gender': ['male', 'male', 'male', 'male', 'female', 'female', 'female', 'female'],\n",
    "    'highest education achieved': ['never finished high school',\n",
    "                                   'high school',\n",
    "                                   'college',\n",
    "                                   'graduate school',\n",
    "                                   'never finished high school',\n",
    "                                   'high school',\n",
    "                                   'college',\n",
    "                                   'graduate school'],\n",
    "    'occurrence': [112, 231, 595, 242, 136, 189, 763, 172]\n",
    "})\n",
    "\n",
    "table_1p5"
   ]
  },
  {
   "cell_type": "markdown",
   "metadata": {},
   "source": [
    "**a) Estimate $P(High School)$**"
   ]
  },
  {
   "cell_type": "code",
   "execution_count": 22,
   "metadata": {},
   "outputs": [
    {
     "data": {
      "text/plain": [
       "0.1721311475409836"
      ]
     },
     "execution_count": 22,
     "metadata": {},
     "output_type": "execute_result"
    }
   ],
   "source": [
    "table_1p5[table_1p5['highest education achieved']=='high school']['occurrence'].sum()/table_1p5['occurrence'].sum()"
   ]
  },
  {
   "cell_type": "markdown",
   "metadata": {},
   "source": [
    "**b) Estimate $P(\\text{High School OR Female})$**"
   ]
  },
  {
   "cell_type": "code",
   "execution_count": 27,
   "metadata": {},
   "outputs": [
    {
     "data": {
      "text/plain": [
       "0.6110655737704918"
      ]
     },
     "execution_count": 27,
     "metadata": {},
     "output_type": "execute_result"
    }
   ],
   "source": [
    "table_1p5[\n",
    "    (table_1p5['highest education achieved']=='high school') |\n",
    "    (table_1p5['gender']=='female')\n",
    "]['occurrence'].sum()/table_1p5['occurrence'].sum()"
   ]
  },
  {
   "cell_type": "markdown",
   "metadata": {},
   "source": [
    "**c) Estimate $P(\\text{High School | Female})$**"
   ]
  },
  {
   "cell_type": "code",
   "execution_count": 30,
   "metadata": {},
   "outputs": [
    {
     "data": {
      "text/plain": [
       "0.15"
      ]
     },
     "execution_count": 30,
     "metadata": {},
     "output_type": "execute_result"
    }
   ],
   "source": [
    "table_1p5[\n",
    "    (table_1p5['highest education achieved']=='high school') &\n",
    "    (table_1p5['gender']=='female')\n",
    "]['occurrence'].sum()/table_1p5[\n",
    "    (table_1p5['gender']=='female')\n",
    "]['occurrence'].sum()"
   ]
  },
  {
   "cell_type": "markdown",
   "metadata": {},
   "source": [
    "**d) Estimate $P(\\text{Female | High School})$**"
   ]
  },
  {
   "cell_type": "code",
   "execution_count": 31,
   "metadata": {},
   "outputs": [
    {
     "data": {
      "text/plain": [
       "0.45"
      ]
     },
     "execution_count": 31,
     "metadata": {},
     "output_type": "execute_result"
    }
   ],
   "source": [
    "table_1p5[\n",
    "    (table_1p5['gender']=='female') &\n",
    "    (table_1p5['highest education achieved']=='high school')\n",
    "]['occurrence'].sum()/table_1p5[\n",
    "    (table_1p5['highest education achieved']=='high school')\n",
    "]['occurrence'].sum()"
   ]
  },
  {
   "cell_type": "markdown",
   "metadata": {},
   "source": [
    "### 1.3.3 Consider the casino problem described in Section 1.3.7\n",
    "\n",
    "**a) Compute $P(\\text{Craps | \"11\"})$ assuming that there are twice as many roulette tables as crap games at the casino.**\n",
    "\n",
    "$$P(\\text{Craps | \"11\"}) = \\frac{P(\\text{\"11\" | Craps})P(\\text{Craps})}{P(\\text{\"11\"})}$$"
   ]
  },
  {
   "cell_type": "code",
   "execution_count": 37,
   "metadata": {},
   "outputs": [
    {
     "data": {
      "text/plain": [
       "0.6785714285714286"
      ]
     },
     "execution_count": 37,
     "metadata": {},
     "output_type": "execute_result"
    }
   ],
   "source": [
    "# if same number of tables exist in the casino\n",
    "hypothesis = 'craps'\n",
    "evidence = '11'\n",
    "p_craps = 1/18 # 2/36 cases where 11 can be called in a game of craps: P('11'|craps)\n",
    "p_roulette = 1/38 # cases where 11 can be called in a game of roulette: P('11'|roulette)\n",
    "p_game_of_craps = 1/2 # same number of roulettes and craps\n",
    "\n",
    "p_11 = p_craps*p_game_of_craps+(1-p_game_of_craps)*p_roulette\n",
    "\n",
    "(p_craps*p_game_of_craps)/(p_11)"
   ]
  },
  {
   "cell_type": "code",
   "execution_count": 38,
   "metadata": {},
   "outputs": [
    {
     "data": {
      "text/plain": [
       "0.5135135135135135"
      ]
     },
     "execution_count": 38,
     "metadata": {},
     "output_type": "execute_result"
    }
   ],
   "source": [
    "# if twice the number of roulette tables than craps:\n",
    "hypothesis = 'craps'\n",
    "evidence = '11'\n",
    "p_craps = 1/18 # 2/36 cases where 11 can be called in a game of craps: P('11'|craps)\n",
    "p_roulette = 1/38 # cases where 11 can be called in a game of roulette: P('11'|roulette)\n",
    "p_game_of_craps = 1/3 # twice the number of roulettes than craps\n",
    "\n",
    "p_11 = p_craps*p_game_of_craps+(1-p_game_of_craps)*p_roulette\n",
    "\n",
    "(p_craps*p_game_of_craps)/(p_11)"
   ]
  },
  {
   "cell_type": "markdown",
   "metadata": {},
   "source": [
    "**b) Compute $P(\\text{Roulette | \"10\"})$ assuming that there are twice as many crap tables as roulette games at the casino.**\n",
    "\n",
    "$$P(\\text{Roulette | \"10\"}) = \\frac{P(\\text{\"10\" | Roulette})P(\\text{Roulette})}{P(\\text{\"10\"})}$$"
   ]
  },
  {
   "cell_type": "code",
   "execution_count": 43,
   "metadata": {},
   "outputs": [
    {
     "data": {
      "text/plain": [
       "0.13636363636363638"
      ]
     },
     "execution_count": 43,
     "metadata": {},
     "output_type": "execute_result"
    }
   ],
   "source": [
    "# if twice the number of crap tables than roulette:\n",
    "hypothesis = 'roulette'\n",
    "evidence = '10'\n",
    "p_craps = 3/36 # cases where 10 can be called in a game of craps: P('10'|craps)\n",
    "p_roulette = 1/38 # cases where 10 can be called in a game of roulette: P('10'|roulette)\n",
    "p_game_of_craps = 2/3 # twice number of craps than roulettes\n",
    "\n",
    "p_10 = p_roulette*(1-p_game_of_craps)+p_game_of_craps*p_craps\n",
    "\n",
    "(p_roulette*(1-p_game_of_craps))/(p_10)"
   ]
  },
  {
   "cell_type": "markdown",
   "metadata": {},
   "source": [
    "### 1.3.4 Suppose we have three cards. Card 1 has two black faces, one on each side; Card 2 has two white faces; and Card 3 has one white face and one black face. You select a card at random and place it on the table. You find that it is black on the face-up side. What is the probability that the face-down side of the card is also black?\n",
    "\n",
    "**a) Use your intuition to argue that the probability that the face-down side of the card is also black is $\\frac{1}{2}$. Why might it be greater than $\\frac{1}{2}$?**\n",
    "\n",
    "$$I = \\text{Identity of the selected card (Card 1, Card 2, Card 3)}$$\n",
    "$$C_D = \\text{Color of face down side (B, W)}$$\n",
    "$$C_U = \\text{Color of face up side (B, W)}$$\n",
    "\n",
    "We know one side is black, so $I=1$ and $I=3$. Out of those, half has other side as black, so intuitively, one could think that the face-down side of the card is also black is $\\frac{1}{2}$. However, it might be greater than $\\frac{1}{2}$ in the case that we are allowed to flip cards when shuffling.\n",
    "\n",
    "**b) Express the probabilities and conditional probabilties that you find easy to estimate (for example, $P(C_D = \\text{Black})$), in terms of the variables above.**\n",
    "\n",
    "$P(I = 1) = \\frac{1}{3}$\n",
    "\n",
    "$P(I = 2) = \\frac{1}{3}$\n",
    "\n",
    "$P(I = 3) = \\frac{1}{3}$\n",
    "\n",
    "$P(C_D = Black | C_U = Black, I = 1) = 1$\n",
    "\n",
    "$P(C_D = Black | C_U = Black, I = 2) = 0$\n",
    "\n",
    "$P(C_D = Black | C_U = Black, I = 3) = 0$"
   ]
  },
  {
   "cell_type": "code",
   "execution_count": 46,
   "metadata": {},
   "outputs": [],
   "source": [
    "class Card():\n",
    "    def __init__(self, side_1=None, side_2=None):\n",
    "        self.side_1 = side_1\n",
    "        self.side_2 = side_2\n",
    "        self.up = self.side_1\n",
    "        self.down = self.side_2\n",
    "        \n",
    "    def flip(self):\n",
    "        if np.random.binomial(1, 0.5):\n",
    "            self.up = self.side_2\n",
    "            self.down = self.side_1\n",
    "        else:\n",
    "            self.up = self.side_1\n",
    "            self.down = self.side_2\n",
    "            \n",
    "    def up(self):\n",
    "        return self.up\n",
    "    \n",
    "    def down(self):\n",
    "        return self.down"
   ]
  },
  {
   "cell_type": "code",
   "execution_count": 47,
   "metadata": {},
   "outputs": [],
   "source": [
    "card = Card(side_1='B', side_2='W')"
   ]
  },
  {
   "cell_type": "code",
   "execution_count": 48,
   "metadata": {},
   "outputs": [],
   "source": [
    "card.flip()"
   ]
  },
  {
   "cell_type": "code",
   "execution_count": 49,
   "metadata": {},
   "outputs": [
    {
     "name": "stdout",
     "output_type": "stream",
     "text": [
      "up B down W\n"
     ]
    }
   ],
   "source": [
    "print('up', card.up, 'down', card.down)"
   ]
  },
  {
   "cell_type": "code",
   "execution_count": 50,
   "metadata": {},
   "outputs": [],
   "source": [
    "card_1 = Card(side_1='B', side_2='B')\n",
    "card_2 = Card(side_1='W', side_2='W')\n",
    "card_3 = Card(side_1='W', side_2='B')\n",
    "\n",
    "cards = [card_1, card_2, card_3]\n",
    "\n",
    "ups = []\n",
    "downs = []\n",
    "\n",
    "for i in range(10000):\n",
    "    card = np.random.choice(cards)\n",
    "    card.flip()\n",
    "    ups.append(card.up)\n",
    "    downs.append(card.down)"
   ]
  },
  {
   "cell_type": "code",
   "execution_count": 51,
   "metadata": {},
   "outputs": [
    {
     "data": {
      "text/html": [
       "<div>\n",
       "<style scoped>\n",
       "    .dataframe tbody tr th:only-of-type {\n",
       "        vertical-align: middle;\n",
       "    }\n",
       "\n",
       "    .dataframe tbody tr th {\n",
       "        vertical-align: top;\n",
       "    }\n",
       "\n",
       "    .dataframe thead th {\n",
       "        text-align: right;\n",
       "    }\n",
       "</style>\n",
       "<table border=\"1\" class=\"dataframe\">\n",
       "  <thead>\n",
       "    <tr style=\"text-align: right;\">\n",
       "      <th></th>\n",
       "      <th>up</th>\n",
       "      <th>down</th>\n",
       "    </tr>\n",
       "  </thead>\n",
       "  <tbody>\n",
       "    <tr>\n",
       "      <th>0</th>\n",
       "      <td>W</td>\n",
       "      <td>W</td>\n",
       "    </tr>\n",
       "    <tr>\n",
       "      <th>1</th>\n",
       "      <td>W</td>\n",
       "      <td>W</td>\n",
       "    </tr>\n",
       "    <tr>\n",
       "      <th>2</th>\n",
       "      <td>W</td>\n",
       "      <td>W</td>\n",
       "    </tr>\n",
       "    <tr>\n",
       "      <th>3</th>\n",
       "      <td>W</td>\n",
       "      <td>W</td>\n",
       "    </tr>\n",
       "    <tr>\n",
       "      <th>4</th>\n",
       "      <td>B</td>\n",
       "      <td>W</td>\n",
       "    </tr>\n",
       "    <tr>\n",
       "      <th>...</th>\n",
       "      <td>...</td>\n",
       "      <td>...</td>\n",
       "    </tr>\n",
       "    <tr>\n",
       "      <th>9995</th>\n",
       "      <td>B</td>\n",
       "      <td>B</td>\n",
       "    </tr>\n",
       "    <tr>\n",
       "      <th>9996</th>\n",
       "      <td>W</td>\n",
       "      <td>B</td>\n",
       "    </tr>\n",
       "    <tr>\n",
       "      <th>9997</th>\n",
       "      <td>B</td>\n",
       "      <td>B</td>\n",
       "    </tr>\n",
       "    <tr>\n",
       "      <th>9998</th>\n",
       "      <td>B</td>\n",
       "      <td>B</td>\n",
       "    </tr>\n",
       "    <tr>\n",
       "      <th>9999</th>\n",
       "      <td>W</td>\n",
       "      <td>W</td>\n",
       "    </tr>\n",
       "  </tbody>\n",
       "</table>\n",
       "<p>10000 rows × 2 columns</p>\n",
       "</div>"
      ],
      "text/plain": [
       "     up down\n",
       "0     W    W\n",
       "1     W    W\n",
       "2     W    W\n",
       "3     W    W\n",
       "4     B    W\n",
       "...  ..  ...\n",
       "9995  B    B\n",
       "9996  W    B\n",
       "9997  B    B\n",
       "9998  B    B\n",
       "9999  W    W\n",
       "\n",
       "[10000 rows x 2 columns]"
      ]
     },
     "execution_count": 51,
     "metadata": {},
     "output_type": "execute_result"
    }
   ],
   "source": [
    "card_picks = pd.DataFrame({\n",
    "    'up': ups,\n",
    "    'down': downs\n",
    "})\n",
    "\n",
    "card_picks"
   ]
  },
  {
   "cell_type": "code",
   "execution_count": 52,
   "metadata": {},
   "outputs": [
    {
     "data": {
      "text/plain": [
       "3261"
      ]
     },
     "execution_count": 52,
     "metadata": {},
     "output_type": "execute_result"
    }
   ],
   "source": [
    "card_picks[\n",
    "    (card_picks['up'] == 'B') & \\\n",
    "    (card_picks['down'] == 'B')\n",
    "].shape[0]"
   ]
  },
  {
   "cell_type": "code",
   "execution_count": 53,
   "metadata": {},
   "outputs": [
    {
     "data": {
      "text/plain": [
       "5019"
      ]
     },
     "execution_count": 53,
     "metadata": {},
     "output_type": "execute_result"
    }
   ],
   "source": [
    "card_picks[card_picks['up'] == 'B'].shape[0]"
   ]
  },
  {
   "cell_type": "code",
   "execution_count": 54,
   "metadata": {},
   "outputs": [
    {
     "data": {
      "text/plain": [
       "0.6497310221159593"
      ]
     },
     "execution_count": 54,
     "metadata": {},
     "output_type": "execute_result"
    }
   ],
   "source": [
    "card_picks[\n",
    "    (card_picks['up'] == 'B') & \\\n",
    "    (card_picks['down'] == 'B')\n",
    "].shape[0] / card_picks[card_picks['up'] == 'B'].shape[0]"
   ]
  },
  {
   "cell_type": "markdown",
   "metadata": {},
   "source": [
    "### 1.3.5 Prove, using Bayes' theorem, that switching doors improves your chances of winning the car in the Monty Hall problem.\n",
    "\n",
    "If $H$ stands for the host's choice, $Y$ for your choice and $L$ for the car's location, what we want to know is $P(L = 2 | Y = 1, H = 3)$ where each variable can take $[1, 2, 3]$\n",
    "\n",
    "$$P(L=2|Y=1,H=3) = \\frac{P(H=3, Y=1, L=2)}{P(H=3, Y=1)}\\\\ = \\frac{P(H=3|Y=1, L=2)\\times P(Y=1,L=2)}{P(H=3, Y=1)}\\\\ = \\frac{1.0\\times P(Y=1)\\times P(L=2))}{P(H=3, Y=1)}\\\\ = \\frac{\\frac{1}{9}}{P(H=3, Y=1)}\\\\ = \\frac{\\frac{1}{9}}{\\sum_l{P(H=3,Y=1,L=l)}}\\\\ = \\frac{\\frac{1}{9}}{\\sum_l{P(H=3|Y=1,L=l)P(Y=1,L=l)}}\\\\ = \\frac{\\frac{1}{9}}{1\\times \\frac{1}{9}+\\frac{1}{2}\\times \\frac{1}{9}+0\\times \\frac{1}{9}}\\\\ = \\frac{\\frac{1}{9}}{\\frac{1}{6}}\\\\ = \\frac{2}{3}$$"
   ]
  },
  {
   "cell_type": "markdown",
   "metadata": {},
   "source": [
    "### 1.3.6 \n",
    "\n",
    "**a) Prove that, in general, both $\\sigma_{XY}$ and $\\rho_{XY}$ vanish when $X$ and $Y$ are independent. Hint: Use Eqs. (1.16) and (1.17).**\n",
    "\n",
    "$$\\rho_{X, Y} = \\frac{\\sigma_{XY}}{\\sqrt{Var(X)\\sqrt{Var(Y)}}}\\\\ = 0$$\n",
    "\n",
    "**b) Give an example of two variables that are highly dependent and, yet, their correlation coefficient vanishes.**\n",
    "\n",
    "Example: $f(x)$ and $f(y) = x^2$"
   ]
  },
  {
   "cell_type": "code",
   "execution_count": 55,
   "metadata": {},
   "outputs": [
    {
     "data": {
      "text/plain": [
       "array([[ 1.        , -0.00449718],\n",
       "       [-0.00449718,  1.        ]])"
      ]
     },
     "execution_count": 55,
     "metadata": {},
     "output_type": "execute_result"
    }
   ],
   "source": [
    "x = np.random.uniform(low=-1,high=1, size=10000)\n",
    "x_squared = x**2\n",
    "\n",
    "np.corrcoef(x, x_squared)"
   ]
  },
  {
   "cell_type": "markdown",
   "metadata": {},
   "source": [
    "### 1.3.7 Two fair coins are flipped simultaneously to determine the payoffs of two players in the town's casino. Player 1 wins a dollar if and only if at least one coin lands on head. Player 2 receives a dollar if and only if the two coins land on the same face. Let $X$ stand for the payoff of Player 1 and $Y$ for the payoff of Player 2.\n",
    "\n",
    "**a) Find and describe the probability distributions**\n",
    "\n",
    "$$P(x), P(y), P(x, y), P(x|y), P(y|x)$$\n",
    "\n",
    "$$P(y)=P(C_1=h, C_1=h)+P(C_1=t, C_1=t)=0.5$$\n",
    "\n",
    "$$P(y|x) = \\frac{P(x,y)}{P(x)}\\\\ = \\frac{0.25}{0.75}\\\\ = \\frac{1}{3}$$\n",
    "\n",
    "**b) Using the descriptions in (a), compute the following measures:**\n",
    "\n",
    "$$\\rho_{X,Y} = \\frac{Cov(X, Y)}{\\sqrt{Var(X)\\sqrt{Var(Y)}}}\\\\=\\\\ = \\frac{-0.125}{\\sqrt{0.1875}\\sqrt{0.25}}\\\\=-0.577$$"
   ]
  },
  {
   "cell_type": "code",
   "execution_count": 56,
   "metadata": {},
   "outputs": [
    {
     "data": {
      "text/plain": [
       "-0.5773502691896258"
      ]
     },
     "execution_count": 56,
     "metadata": {},
     "output_type": "execute_result"
    }
   ],
   "source": [
    "-0.125 /(np.sqrt(0.1875)*np.sqrt(0.25))"
   ]
  },
  {
   "cell_type": "markdown",
   "metadata": {},
   "source": [
    "**c) Given that Player 2 won a dollar, what is your best guess of Player 1's payoff?**\n",
    "\n",
    "$$E[X|Y=y] = \\sum_x^1 xP(X=x|Y=y)$$\n",
    "$\\text{50 cents}$\n",
    "\n",
    "**d) Given that Player 1 won a dollar, what is your best guess of Player 2's payoff?**\n",
    "\n",
    "$$E[Y|X=x] = \\sum_y^1 yP(Y=y|X=x)$$\n",
    "$\\text{33 cents}$\n",
    "\n",
    "\n",
    "**e)Are there two events, $X=x$ and $Y=y$, that are mutually independent?**\n",
    "\n",
    "No, because $X=x$ means $Y\\neq{y}$ and the other way aronud.\n",
    "\n",
    "### 1.3.8 Compute the following theoretical measures of the outcome fo a single game of craps (one roll of two independent dice), where $X$ stands for the outcome of Die 1, $Z$ for the outcome of Die 2, and $Y$ for their sum."
   ]
  },
  {
   "cell_type": "code",
   "execution_count": 59,
   "metadata": {},
   "outputs": [
    {
     "data": {
      "text/html": [
       "<div>\n",
       "<style scoped>\n",
       "    .dataframe tbody tr th:only-of-type {\n",
       "        vertical-align: middle;\n",
       "    }\n",
       "\n",
       "    .dataframe tbody tr th {\n",
       "        vertical-align: top;\n",
       "    }\n",
       "\n",
       "    .dataframe thead th {\n",
       "        text-align: right;\n",
       "    }\n",
       "</style>\n",
       "<table border=\"1\" class=\"dataframe\">\n",
       "  <thead>\n",
       "    <tr style=\"text-align: right;\">\n",
       "      <th></th>\n",
       "      <th>roll</th>\n",
       "      <th>X: Die 1</th>\n",
       "      <th>Z: Die 2</th>\n",
       "      <th>Y: Sum</th>\n",
       "    </tr>\n",
       "  </thead>\n",
       "  <tbody>\n",
       "    <tr>\n",
       "      <th>0</th>\n",
       "      <td>roll1</td>\n",
       "      <td>6</td>\n",
       "      <td>3</td>\n",
       "      <td>9</td>\n",
       "    </tr>\n",
       "    <tr>\n",
       "      <th>1</th>\n",
       "      <td>roll2</td>\n",
       "      <td>3</td>\n",
       "      <td>4</td>\n",
       "      <td>7</td>\n",
       "    </tr>\n",
       "    <tr>\n",
       "      <th>2</th>\n",
       "      <td>roll3</td>\n",
       "      <td>4</td>\n",
       "      <td>6</td>\n",
       "      <td>10</td>\n",
       "    </tr>\n",
       "    <tr>\n",
       "      <th>3</th>\n",
       "      <td>roll4</td>\n",
       "      <td>6</td>\n",
       "      <td>2</td>\n",
       "      <td>8</td>\n",
       "    </tr>\n",
       "    <tr>\n",
       "      <th>4</th>\n",
       "      <td>roll5</td>\n",
       "      <td>6</td>\n",
       "      <td>4</td>\n",
       "      <td>10</td>\n",
       "    </tr>\n",
       "    <tr>\n",
       "      <th>5</th>\n",
       "      <td>roll6</td>\n",
       "      <td>5</td>\n",
       "      <td>3</td>\n",
       "      <td>8</td>\n",
       "    </tr>\n",
       "    <tr>\n",
       "      <th>6</th>\n",
       "      <td>roll7</td>\n",
       "      <td>1</td>\n",
       "      <td>5</td>\n",
       "      <td>6</td>\n",
       "    </tr>\n",
       "    <tr>\n",
       "      <th>7</th>\n",
       "      <td>roll8</td>\n",
       "      <td>3</td>\n",
       "      <td>5</td>\n",
       "      <td>8</td>\n",
       "    </tr>\n",
       "    <tr>\n",
       "      <th>8</th>\n",
       "      <td>roll9</td>\n",
       "      <td>6</td>\n",
       "      <td>5</td>\n",
       "      <td>11</td>\n",
       "    </tr>\n",
       "    <tr>\n",
       "      <th>9</th>\n",
       "      <td>roll10</td>\n",
       "      <td>3</td>\n",
       "      <td>5</td>\n",
       "      <td>8</td>\n",
       "    </tr>\n",
       "    <tr>\n",
       "      <th>10</th>\n",
       "      <td>roll11</td>\n",
       "      <td>5</td>\n",
       "      <td>3</td>\n",
       "      <td>8</td>\n",
       "    </tr>\n",
       "    <tr>\n",
       "      <th>11</th>\n",
       "      <td>roll12</td>\n",
       "      <td>4</td>\n",
       "      <td>5</td>\n",
       "      <td>9</td>\n",
       "    </tr>\n",
       "  </tbody>\n",
       "</table>\n",
       "</div>"
      ],
      "text/plain": [
       "      roll  X: Die 1  Z: Die 2  Y: Sum\n",
       "0    roll1         6         3       9\n",
       "1    roll2         3         4       7\n",
       "2    roll3         4         6      10\n",
       "3    roll4         6         2       8\n",
       "4    roll5         6         4      10\n",
       "5    roll6         5         3       8\n",
       "6    roll7         1         5       6\n",
       "7    roll8         3         5       8\n",
       "8    roll9         6         5      11\n",
       "9   roll10         3         5       8\n",
       "10  roll11         5         3       8\n",
       "11  roll12         4         5       9"
      ]
     },
     "execution_count": 59,
     "metadata": {},
     "output_type": "execute_result"
    }
   ],
   "source": [
    "table = pd.DataFrame({\n",
    "    'roll': ['roll1', 'roll2','roll3','roll4','roll5','roll6','roll7','roll8','roll9','roll10','roll11','roll12'],\n",
    "    'X: Die 1': [6,3,4,6,6,5,1,3,6,3,5,4],\n",
    "    'Z: Die 2': [3,4,6,2,4,3,5,5,5,5,3,5],\n",
    "    'Y: Sum': [9,7,10,8,10,8,6,8,11,8,8,9],\n",
    "})\n",
    "\n",
    "table"
   ]
  },
  {
   "cell_type": "markdown",
   "metadata": {},
   "source": [
    "**a)**\n",
    "\n",
    "$$E[X], E[Y], E[Y|X=x], E[X|Y=y], \\text{for each value of x and y, and}\\\\ Var(X), Var(Y), Cov(X, Y), \\rho_XY, Cov(X, Z))$$\n",
    "\n",
    "$$E[X]=3.5$$"
   ]
  },
  {
   "cell_type": "code",
   "execution_count": 60,
   "metadata": {},
   "outputs": [
    {
     "data": {
      "text/plain": [
       "3.5"
      ]
     },
     "execution_count": 60,
     "metadata": {},
     "output_type": "execute_result"
    }
   ],
   "source": [
    "np.arange(1, 7).mean()"
   ]
  },
  {
   "cell_type": "markdown",
   "metadata": {},
   "source": [
    "$$E[Y] = E[Y] + E[Z]\\\\ = 2\\times3.5\\\\=7$$"
   ]
  },
  {
   "cell_type": "code",
   "execution_count": 62,
   "metadata": {},
   "outputs": [
    {
     "data": {
      "text/plain": [
       "6.999999999999998"
      ]
     },
     "execution_count": 62,
     "metadata": {},
     "output_type": "execute_result"
    }
   ],
   "source": [
    "(np.array([1,2,3,4,5,6,5,4,3,2,1])/36*np.arange(2, 13)).sum()"
   ]
  },
  {
   "cell_type": "markdown",
   "metadata": {},
   "source": [
    "$$E[Y|X=x] = E[Z+x|X=x]\\\\=E[Z|X=x]+E[x|X=x]\\\\=E[Z+x|X=x]+x\\\\=\\sum_z{z}P(Z=z|X=x)+x\\\\=\\sum_z{z}P(Z=z)+x\\\\=3.5+x$$\n",
    "\n",
    "$$E[X|Y=y] = E[y-Z|Y=y]\\\\=E[y|Y=y]-E[Z|Y=y]\\\\=E[y|Y=y]-E[X|Y=y]\\\\=\\frac{E[y|Y=y]}{2}\\\\=\\frac{y}{2}$$"
   ]
  },
  {
   "cell_type": "code",
   "execution_count": 64,
   "metadata": {},
   "outputs": [
    {
     "data": {
      "text/plain": [
       "2.9166666666666665"
      ]
     },
     "execution_count": 64,
     "metadata": {},
     "output_type": "execute_result"
    }
   ],
   "source": [
    "np.arange(1,7).var()"
   ]
  },
  {
   "cell_type": "markdown",
   "metadata": {},
   "source": [
    "$$Var(X)=E[X^2]-E[X]^2\\\\=\\sum_{x=1}^6x^2P(X=x)-3.5^2\\\\=2.916$$"
   ]
  },
  {
   "cell_type": "code",
   "execution_count": 65,
   "metadata": {},
   "outputs": [
    {
     "data": {
      "text/plain": [
       "5.833333333333336"
      ]
     },
     "execution_count": 65,
     "metadata": {},
     "output_type": "execute_result"
    }
   ],
   "source": [
    "(np.arange(2,13)**2 * (np.array([1,2,3,4,5,6,5,4,3,2,1]) / 36)).sum() - 49"
   ]
  },
  {
   "cell_type": "markdown",
   "metadata": {},
   "source": [
    "$$Var(Y)=E[Y^2]-E[Y]^2\\\\=\\sum_{x=2}^12y^2P(Y=y)-7^2\\\\=54.83-49\\\\=5.83$$"
   ]
  },
  {
   "cell_type": "code",
   "execution_count": 66,
   "metadata": {},
   "outputs": [
    {
     "data": {
      "text/plain": [
       "2.916666666666668"
      ]
     },
     "execution_count": 66,
     "metadata": {},
     "output_type": "execute_result"
    }
   ],
   "source": [
    "(np.arange(1,7)**2 / 6).sum() - 3.5**2"
   ]
  },
  {
   "cell_type": "markdown",
   "metadata": {},
   "source": [
    "$$Cov(X,Y)=E[XY]-E[X]E[Y]\\\\=E(X(X+Z))-E(X)E(X+Z)\\\\=E(X(X+Z))-E(X)2E(X)\\\\=E(X(X+Z))-2\\times3.5^2\\\\=E(X(X+Z))-24.5\\\\=E(X^2+XZ)-24.5\\\\=E(X^2)+E(XZ)-24.5\\\\=E(X^2)+E(X)E(Z)-24.5\\\\=E(X^2)\\times3.5^2-24.5\\\\=E(X^2)-12.25\\\\=\\sum_{x}x^2P(X=x)-24.5\\\\=15.16-12.25\\\\=2.916$$"
   ]
  },
  {
   "cell_type": "code",
   "execution_count": 67,
   "metadata": {},
   "outputs": [
    {
     "data": {
      "text/plain": [
       "array([[2.92478643, 2.92042802],\n",
       "       [2.92042802, 5.8353032 ]])"
      ]
     },
     "execution_count": 67,
     "metadata": {},
     "output_type": "execute_result"
    }
   ],
   "source": [
    "x = np.random.choice(np.arange(1,7),size=100000)\n",
    "z = np.random.choice(np.arange(1,7),size=100000)\n",
    "y = x+z\n",
    "\n",
    "np.cov(x, y)"
   ]
  },
  {
   "cell_type": "code",
   "execution_count": 68,
   "metadata": {},
   "outputs": [
    {
     "data": {
      "text/plain": [
       "array([[ 2.92478643, -0.00435841],\n",
       "       [-0.00435841,  2.91923359]])"
      ]
     },
     "execution_count": 68,
     "metadata": {},
     "output_type": "execute_result"
    }
   ],
   "source": [
    "np.cov(x,z)"
   ]
  },
  {
   "cell_type": "code",
   "execution_count": 69,
   "metadata": {},
   "outputs": [
    {
     "data": {
      "text/plain": [
       "0.7071067811786683"
      ]
     },
     "execution_count": 69,
     "metadata": {},
     "output_type": "execute_result"
    }
   ],
   "source": [
    "np.sqrt(2.9166666666) / np.sqrt(5.83333333333)"
   ]
  },
  {
   "cell_type": "markdown",
   "metadata": {},
   "source": [
    "$$\\rho(X,Y)=\\frac{Cov(X,Y)}{\\sqrt{Var(X)}\\sqrt{Var(Y)}}\\\\=\\frac{2.916}{\\sqrt{2.916}\\sqrt{5.835}}\\\\=\\frac{\\sqrt{2.916}}{\\sqrt{5.83}}\\\\=0.70$$"
   ]
  },
  {
   "cell_type": "code",
   "execution_count": 70,
   "metadata": {},
   "outputs": [
    {
     "data": {
      "text/plain": [
       "array([[1.        , 0.70691584],\n",
       "       [0.70691584, 1.        ]])"
      ]
     },
     "execution_count": 70,
     "metadata": {},
     "output_type": "execute_result"
    }
   ],
   "source": [
    "np.corrcoef(x,y)"
   ]
  },
  {
   "cell_type": "markdown",
   "metadata": {},
   "source": [
    "$$Cov(X,Z) = 0\\space \\text{X, Y are independent.}$$\n",
    "\n",
    "**b) Find the sample estimates of the measures computed in (a), based on the data from Table 1.6 [Hint: Many software packages are available for doing this computation for you.]**"
   ]
  },
  {
   "cell_type": "code",
   "execution_count": 73,
   "metadata": {},
   "outputs": [
    {
     "name": "stdout",
     "output_type": "stream",
     "text": [
      "E(Y|X=1): 6.0\n",
      "E(Y|X=2): nan\n",
      "E(Y|X=3): 7.666666666666667\n",
      "E(Y|X=4): 9.5\n",
      "E(Y|X=5): 8.0\n",
      "E(Y|X=6): 9.5\n"
     ]
    }
   ],
   "source": [
    "for i in range(1, 7):\n",
    "    print('E(Y|X=' + str(i) + '):', table[table['X: Die 1'] == i]['Y: Sum'].mean())"
   ]
  },
  {
   "cell_type": "code",
   "execution_count": 74,
   "metadata": {},
   "outputs": [
    {
     "name": "stdout",
     "output_type": "stream",
     "text": [
      "sample estimates: \n",
      "E(X):  4.333333333333333\n",
      "E(Y):  8.5\n",
      "E(Y|X=1): 6.0\n",
      "E(Y|X=2): nan\n",
      "E(Y|X=3): 7.666666666666667\n",
      "E(Y|X=4): 9.5\n",
      "E(Y|X=5): 8.0\n",
      "E(Y|X=6): 9.5\n",
      "E(X|Y=2): nan\n",
      "E(X|Y=3): nan\n",
      "E(X|Y=4): nan\n",
      "E(X|Y=5): nan\n",
      "E(X|Y=6): 1.0\n",
      "E(X|Y=7): 3.0\n",
      "E(X|Y=8): 4.4\n",
      "E(X|Y=9): 5.0\n",
      "E(X|Y=10): 5.0\n",
      "E(X|Y=11): 6.0\n",
      "E(X|Y=12): nan\n",
      "Var(X):  2.606060606060606\n",
      "Var(Y):  1.9090909090909092\n",
      "Cov(X,Y) Matrix:  [[2.60606061 1.54545455]\n",
      " [1.54545455 1.90909091]]\n",
      "Corr coeff Matrix:  [[1.         0.69286827]\n",
      " [0.69286827 1.        ]]\n",
      "Cov(X,Z) Matrix:  [[ 2.60606061 -1.06060606]\n",
      " [-1.06060606  1.42424242]]\n"
     ]
    }
   ],
   "source": [
    "print('sample estimates: ')\n",
    "print('E(X): ', table['X: Die 1'].mean())\n",
    "print('E(Y): ', table['Y: Sum'].mean())\n",
    "\n",
    "for i in range(1,7):\n",
    "    print('E(Y|X=' + str(i) + '):', table[table['X: Die 1'] == i]['Y: Sum'].mean())\n",
    "\n",
    "for i in range(2,13):\n",
    "    print('E(X|Y=' + str(i) + '):', table[table['Y: Sum'] == i]['X: Die 1'].mean())\n",
    "    \n",
    "print('Var(X): ', table['X: Die 1'].var())\n",
    "print('Var(Y): ', table['Y: Sum'].var())\n",
    "print('Cov(X,Y) Matrix: ', np.cov(table['X: Die 1'], table['Y: Sum']))\n",
    "print('Corr coeff Matrix: ', np.corrcoef(table['X: Die 1'], table['Y: Sum']))\n",
    "print('Cov(X,Z) Matrix: ', np.cov(table['X: Die 1'], table['Z: Die 2']))"
   ]
  },
  {
   "cell_type": "markdown",
   "metadata": {},
   "source": [
    "**c) Use the results in (a) to determine the best estimate of the sum, $Y$, given that we measured X=3.**\n",
    "\n",
    "$$E[Y|X=x]=3.5+x\\\\=3.5+3\\\\=6.5$$\n",
    "\n",
    "\n",
    "**d)\n",
    "What is the best estimate of $X$, given that we measured $Y=4$?**\n",
    "\n",
    "$$E[X|Y=y]=\\frac{y}{2}\\\\=4+2\\\\=2$$\n",
    "\n",
    "**e) What is the best estimate of $X$, given that we measured $Y=4$ and $Z=1$? Explain why it is not the same as in (d).**\n",
    "\n",
    "Knowing the values of $Y$ and $Z$ means we can exactly estimate $X$, in this case $X=3$\n",
    "\n",
    "\n",
    "\n",
    "### 1.3.9 \n",
    "\n",
    "**a) Prove Eq. (1.22) using the orthogonality principle. [Hint: Follow the treatment of Eq. (1.26).]**\n",
    "\n",
    "$$Y=\\alpha+b X+\\epsilon$$\n",
    "\n",
    "$$XY=\\alpha X+b X^2+\\epsilon$$\n",
    "\n",
    "$$E[XY]=\\alpha E[X]+b E[X^2]\\\\=(E[Y] - b E[X])E[X]+bE[X^2]\\\\=E[X]E[Y]-bE[X^2]+bE[X^2]$$\n",
    "\n",
    "$$\\sigma_{XY}=b\\sigma^2_X\\\\=\\frac{\\sigma_{XY}}{\\sigma^2_X}=b$$\n",
    "\n",
    "**b) Find all partial regression coefficients for the craps game described in Study question 1.3.7. [Hint: Apply Eq. (1.27) and use the variances and covariances computed for part (a) of this question.]**\n",
    "\n",
    "$$R_{YX\\cdot Z}, R_{XY\\cdot Z}, R_{YZ\\cdot X}, R_{ZY\\cdot X}, R_{XZ\\cdot Y}, R_{ZX\\cdot Y}$$\n",
    "\n",
    "\n",
    "$$Y=a X+b Z+\\alpha +\\epsilon$$\n",
    "\n",
    "$$E[Y] = aE[X]+bE[Z]+\\alpha$$\n",
    "\n",
    "$$\\alpha=E[Y]-aE[X]-bE[Z]$$"
   ]
  },
  {
   "cell_type": "markdown",
   "metadata": {},
   "source": [
    "**TODO: finish this**"
   ]
  },
  {
   "cell_type": "markdown",
   "metadata": {},
   "source": [
    "### 1.4.1\n",
    "\n",
    "**a) Name all the parents of Z**\n",
    "\n",
    "$W, Y$\n",
    "\n",
    "**b) Name all the ancestors of Z**\n",
    "\n",
    "$W, X, Y$\n",
    "\n",
    "**c) Name all the children of W**\n",
    "\n",
    "$Z, Y$\n",
    "\n",
    "**d) Name all the descendants of W**\n",
    "\n",
    "$Z, Y, T$\n",
    "\n",
    "**e) Draw all the simple paths between X and T (no node should appear more than once)**\n",
    "\n",
    "$X\\longrightarrow Y\\longrightarrow Z\\longrightarrow T$\n",
    "\n",
    "$X\\longrightarrow Y\\longrightarrow T$\n",
    "\n",
    "**f) Draw all the directed paths between X and T**\n",
    "\n",
    "$X\\longrightarrow Y\\longrightarrow Z\\longrightarrow T$\n",
    "\n",
    "$X\\longrightarrow W\\longrightarrow Y\\longrightarrow T$\n",
    "\n",
    "$X\\longrightarrow W\\longrightarrow Z\\longrightarrow T$\n",
    "\n",
    "\n",
    "### 1.5.1 Suppose we have the following SCM. Assume all exogenous variables are independent and that the expected value of each is 0.\n",
    "\n",
    "$$V=\\{X,Y,Z\\}, U=\\{U_X, U_Y, U_Z\\}, F=\\{f_1, f_2\\}$$\n",
    "\n",
    "$$f_X  \\colon X=u_X$$\n",
    "\n",
    "$$f_Y  \\colon Y=\\frac{X}{3}+U_Y$$\n",
    "\n",
    "$$f_Z  \\colon Z=\\frac{Y}{16}+U_Z$$\n",
    "\n",
    "**a) Draw the graph that complies with the model**"
   ]
  },
  {
   "cell_type": "code",
   "execution_count": 78,
   "metadata": {},
   "outputs": [
    {
     "data": {
      "image/svg+xml": [
       "<?xml version=\"1.0\" encoding=\"UTF-8\" standalone=\"no\"?>\n",
       "<!DOCTYPE svg PUBLIC \"-//W3C//DTD SVG 1.1//EN\"\n",
       " \"http://www.w3.org/Graphics/SVG/1.1/DTD/svg11.dtd\">\n",
       "<!-- Generated by graphviz version 2.46.1 (20210213.1702)\n",
       " -->\n",
       "<!-- Pages: 1 -->\n",
       "<svg width=\"102pt\" height=\"260pt\"\n",
       " viewBox=\"0.00 0.00 101.53 260.00\" xmlns=\"http://www.w3.org/2000/svg\" xmlns:xlink=\"http://www.w3.org/1999/xlink\">\n",
       "<g id=\"graph0\" class=\"graph\" transform=\"scale(1 1) rotate(0) translate(4 256)\">\n",
       "<polygon fill=\"white\" stroke=\"transparent\" points=\"-4,4 -4,-256 97.53,-256 97.53,4 -4,4\"/>\n",
       "<!-- Y -->\n",
       "<g id=\"node1\" class=\"node\">\n",
       "<title>Y</title>\n",
       "<ellipse fill=\"none\" stroke=\"black\" cx=\"39.53\" cy=\"-90\" rx=\"27\" ry=\"18\"/>\n",
       "<text text-anchor=\"middle\" x=\"39.53\" y=\"-86.3\" font-family=\"Times,serif\" font-size=\"14.00\">Y</text>\n",
       "</g>\n",
       "<!-- Z -->\n",
       "<g id=\"node2\" class=\"node\">\n",
       "<title>Z</title>\n",
       "<ellipse fill=\"none\" stroke=\"black\" cx=\"66.53\" cy=\"-18\" rx=\"27\" ry=\"18\"/>\n",
       "<text text-anchor=\"middle\" x=\"66.53\" y=\"-14.3\" font-family=\"Times,serif\" font-size=\"14.00\">Z</text>\n",
       "</g>\n",
       "<!-- Y&#45;&gt;Z -->\n",
       "<g id=\"edge2\" class=\"edge\">\n",
       "<title>Y&#45;&gt;Z</title>\n",
       "<path fill=\"none\" stroke=\"black\" d=\"M45.93,-72.41C49.04,-64.34 52.86,-54.43 56.36,-45.35\"/>\n",
       "<polygon fill=\"black\" stroke=\"black\" points=\"59.65,-46.55 59.99,-35.96 53.12,-44.03 59.65,-46.55\"/>\n",
       "</g>\n",
       "<!-- U -->\n",
       "<g id=\"node3\" class=\"node\">\n",
       "<title>U</title>\n",
       "<ellipse fill=\"none\" stroke=\"black\" cx=\"39.53\" cy=\"-234\" rx=\"27\" ry=\"18\"/>\n",
       "<text text-anchor=\"middle\" x=\"39.53\" y=\"-230.3\" font-family=\"Times,serif\" font-size=\"14.00\">U</text>\n",
       "</g>\n",
       "<!-- U&#45;&gt;Y -->\n",
       "<g id=\"edge4\" class=\"edge\">\n",
       "<title>U&#45;&gt;Y</title>\n",
       "<path fill=\"none\" stroke=\"black\" d=\"M25.78,-218.07C17.57,-208.1 7.91,-194.25 3.53,-180 -1.18,-164.71 -1.18,-159.29 3.53,-144 6.81,-133.31 13.07,-122.85 19.45,-114.08\"/>\n",
       "<polygon fill=\"black\" stroke=\"black\" points=\"22.41,-115.98 25.78,-105.93 16.88,-111.69 22.41,-115.98\"/>\n",
       "</g>\n",
       "<!-- U&#45;&gt;Z -->\n",
       "<g id=\"edge5\" class=\"edge\">\n",
       "<title>U&#45;&gt;Z</title>\n",
       "<path fill=\"none\" stroke=\"black\" d=\"M53.28,-218.07C61.49,-208.1 71.15,-194.25 75.53,-180 89.5,-134.56 80.98,-78.57 73.65,-46.01\"/>\n",
       "<polygon fill=\"black\" stroke=\"black\" points=\"76.97,-44.84 71.25,-35.92 70.16,-46.46 76.97,-44.84\"/>\n",
       "</g>\n",
       "<!-- X -->\n",
       "<g id=\"node4\" class=\"node\">\n",
       "<title>X</title>\n",
       "<ellipse fill=\"none\" stroke=\"black\" cx=\"39.53\" cy=\"-162\" rx=\"27\" ry=\"18\"/>\n",
       "<text text-anchor=\"middle\" x=\"39.53\" y=\"-158.3\" font-family=\"Times,serif\" font-size=\"14.00\">X</text>\n",
       "</g>\n",
       "<!-- U&#45;&gt;X -->\n",
       "<g id=\"edge3\" class=\"edge\">\n",
       "<title>U&#45;&gt;X</title>\n",
       "<path fill=\"none\" stroke=\"black\" d=\"M39.53,-215.7C39.53,-207.98 39.53,-198.71 39.53,-190.11\"/>\n",
       "<polygon fill=\"black\" stroke=\"black\" points=\"43.03,-190.1 39.53,-180.1 36.03,-190.1 43.03,-190.1\"/>\n",
       "</g>\n",
       "<!-- X&#45;&gt;Y -->\n",
       "<g id=\"edge1\" class=\"edge\">\n",
       "<title>X&#45;&gt;Y</title>\n",
       "<path fill=\"none\" stroke=\"black\" d=\"M39.53,-143.7C39.53,-135.98 39.53,-126.71 39.53,-118.11\"/>\n",
       "<polygon fill=\"black\" stroke=\"black\" points=\"43.03,-118.1 39.53,-108.1 36.03,-118.1 43.03,-118.1\"/>\n",
       "</g>\n",
       "</g>\n",
       "</svg>\n"
      ],
      "text/plain": [
       "<graphviz.dot.Digraph at 0x13c7bea90>"
      ]
     },
     "execution_count": 78,
     "metadata": {},
     "output_type": "execute_result"
    }
   ],
   "source": [
    "model = CausalGraphicalModel(\n",
    "        nodes = ['X', 'Y', 'Z', 'U'],\n",
    "        edges = [('U', 'X'),\n",
    "                 ('U', 'Y'),\n",
    "                 ('X', 'Y'),\n",
    "                 ('U', 'Z'),\n",
    "                 ('Y', 'Z'),\n",
    "        ]\n",
    ")\n",
    "\n",
    "model.draw()"
   ]
  },
  {
   "cell_type": "code",
   "execution_count": 79,
   "metadata": {},
   "outputs": [
    {
     "data": {
      "image/svg+xml": [
       "<?xml version=\"1.0\" encoding=\"UTF-8\" standalone=\"no\"?>\n",
       "<!DOCTYPE svg PUBLIC \"-//W3C//DTD SVG 1.1//EN\"\n",
       " \"http://www.w3.org/Graphics/SVG/1.1/DTD/svg11.dtd\">\n",
       "<!-- Generated by graphviz version 2.46.1 (20210213.1702)\n",
       " -->\n",
       "<!-- Pages: 1 -->\n",
       "<svg width=\"213pt\" height=\"260pt\"\n",
       " viewBox=\"0.00 0.00 213.29 260.00\" xmlns=\"http://www.w3.org/2000/svg\" xmlns:xlink=\"http://www.w3.org/1999/xlink\">\n",
       "<g id=\"graph0\" class=\"graph\" transform=\"scale(1 1) rotate(0) translate(4 256)\">\n",
       "<polygon fill=\"white\" stroke=\"transparent\" points=\"-4,4 -4,-256 209.29,-256 209.29,4 -4,4\"/>\n",
       "<!-- U_subX -->\n",
       "<g id=\"node1\" class=\"node\">\n",
       "<title>U_subX</title>\n",
       "<ellipse fill=\"none\" stroke=\"black\" cx=\"40.3\" cy=\"-234\" rx=\"40.09\" ry=\"18\"/>\n",
       "<text text-anchor=\"middle\" x=\"40.3\" y=\"-230.3\" font-family=\"Times,serif\" font-size=\"14.00\">U_subX</text>\n",
       "</g>\n",
       "<!-- X -->\n",
       "<g id=\"node5\" class=\"node\">\n",
       "<title>X</title>\n",
       "<ellipse fill=\"none\" stroke=\"black\" cx=\"40.3\" cy=\"-162\" rx=\"27\" ry=\"18\"/>\n",
       "<text text-anchor=\"middle\" x=\"40.3\" y=\"-158.3\" font-family=\"Times,serif\" font-size=\"14.00\">X</text>\n",
       "</g>\n",
       "<!-- U_subX&#45;&gt;X -->\n",
       "<g id=\"edge1\" class=\"edge\">\n",
       "<title>U_subX&#45;&gt;X</title>\n",
       "<path fill=\"none\" stroke=\"black\" d=\"M40.3,-215.7C40.3,-207.98 40.3,-198.71 40.3,-190.11\"/>\n",
       "<polygon fill=\"black\" stroke=\"black\" points=\"43.8,-190.1 40.3,-180.1 36.8,-190.1 43.8,-190.1\"/>\n",
       "</g>\n",
       "<!-- U_subZ -->\n",
       "<g id=\"node2\" class=\"node\">\n",
       "<title>U_subZ</title>\n",
       "<ellipse fill=\"none\" stroke=\"black\" cx=\"166.3\" cy=\"-90\" rx=\"38.99\" ry=\"18\"/>\n",
       "<text text-anchor=\"middle\" x=\"166.3\" y=\"-86.3\" font-family=\"Times,serif\" font-size=\"14.00\">U_subZ</text>\n",
       "</g>\n",
       "<!-- Z -->\n",
       "<g id=\"node3\" class=\"node\">\n",
       "<title>Z</title>\n",
       "<ellipse fill=\"none\" stroke=\"black\" cx=\"124.3\" cy=\"-18\" rx=\"27\" ry=\"18\"/>\n",
       "<text text-anchor=\"middle\" x=\"124.3\" y=\"-14.3\" font-family=\"Times,serif\" font-size=\"14.00\">Z</text>\n",
       "</g>\n",
       "<!-- U_subZ&#45;&gt;Z -->\n",
       "<g id=\"edge3\" class=\"edge\">\n",
       "<title>U_subZ&#45;&gt;Z</title>\n",
       "<path fill=\"none\" stroke=\"black\" d=\"M156.34,-72.41C151.2,-63.83 144.81,-53.19 139.1,-43.67\"/>\n",
       "<polygon fill=\"black\" stroke=\"black\" points=\"142.04,-41.76 133.89,-34.99 136.03,-45.36 142.04,-41.76\"/>\n",
       "</g>\n",
       "<!-- U_subY -->\n",
       "<g id=\"node4\" class=\"node\">\n",
       "<title>U_subY</title>\n",
       "<ellipse fill=\"none\" stroke=\"black\" cx=\"125.3\" cy=\"-162\" rx=\"40.09\" ry=\"18\"/>\n",
       "<text text-anchor=\"middle\" x=\"125.3\" y=\"-158.3\" font-family=\"Times,serif\" font-size=\"14.00\">U_subY</text>\n",
       "</g>\n",
       "<!-- Y -->\n",
       "<g id=\"node6\" class=\"node\">\n",
       "<title>Y</title>\n",
       "<ellipse fill=\"none\" stroke=\"black\" cx=\"82.3\" cy=\"-90\" rx=\"27\" ry=\"18\"/>\n",
       "<text text-anchor=\"middle\" x=\"82.3\" y=\"-86.3\" font-family=\"Times,serif\" font-size=\"14.00\">Y</text>\n",
       "</g>\n",
       "<!-- U_subY&#45;&gt;Y -->\n",
       "<g id=\"edge2\" class=\"edge\">\n",
       "<title>U_subY&#45;&gt;Y</title>\n",
       "<path fill=\"none\" stroke=\"black\" d=\"M115.11,-144.41C109.84,-135.83 103.3,-125.19 97.45,-115.67\"/>\n",
       "<polygon fill=\"black\" stroke=\"black\" points=\"100.33,-113.68 92.12,-106.99 94.37,-117.34 100.33,-113.68\"/>\n",
       "</g>\n",
       "<!-- X&#45;&gt;Y -->\n",
       "<g id=\"edge4\" class=\"edge\">\n",
       "<title>X&#45;&gt;Y</title>\n",
       "<path fill=\"none\" stroke=\"black\" d=\"M49.83,-145.12C54.96,-136.56 61.42,-125.8 67.22,-116.13\"/>\n",
       "<polygon fill=\"black\" stroke=\"black\" points=\"70.37,-117.68 72.51,-107.31 64.37,-114.08 70.37,-117.68\"/>\n",
       "</g>\n",
       "<!-- Y&#45;&gt;Z -->\n",
       "<g id=\"edge5\" class=\"edge\">\n",
       "<title>Y&#45;&gt;Z</title>\n",
       "<path fill=\"none\" stroke=\"black\" d=\"M91.83,-73.12C96.96,-64.56 103.42,-53.8 109.22,-44.13\"/>\n",
       "<polygon fill=\"black\" stroke=\"black\" points=\"112.37,-45.68 114.51,-35.31 106.37,-42.08 112.37,-45.68\"/>\n",
       "</g>\n",
       "</g>\n",
       "</svg>\n"
      ],
      "text/plain": [
       "<graphviz.dot.Digraph at 0x13c309f10>"
      ]
     },
     "execution_count": 79,
     "metadata": {},
     "output_type": "execute_result"
    }
   ],
   "source": [
    "model = CausalGraphicalModel(\n",
    "        nodes = ['U_subX', 'U_subY', 'U_subZ', 'X', 'Y', 'Z'],\n",
    "        edges = [('U_subX', 'X'),\n",
    "                 ('U_subY', 'Y'),\n",
    "                 ('U_subZ', 'Z'),\n",
    "                 ('X', 'Y'),\n",
    "                 ('Y', 'Z'),\n",
    "        ]\n",
    ")\n",
    "\n",
    "model.draw()"
   ]
  },
  {
   "cell_type": "markdown",
   "metadata": {},
   "source": [
    "**b) Determine the best guess of the value (expected value) of $Z$, given that we observe $Y=3$.**\n",
    "\n",
    "$$R[Z|Y=3]=R_{ZY}\\cdot3\\\\=\\frac{\\sigma_{ZY}}{\\sigma_Y^2}\\cdot3$$"
   ]
  },
  {
   "cell_type": "code",
   "execution_count": 80,
   "metadata": {},
   "outputs": [
    {
     "name": "stderr",
     "output_type": "stream",
     "text": [
      "Auto-assigning NUTS sampler...\n",
      "Initializing NUTS using jitter+adapt_diag...\n",
      "Multiprocess sampling (4 chains in 4 jobs)\n",
      "NUTS: [sigma, slope_Y]\n"
     ]
    },
    {
     "data": {
      "text/html": [
       "\n",
       "    <div>\n",
       "        <style>\n",
       "            /* Turns off some styling */\n",
       "            progress {\n",
       "                /* gets rid of default border in Firefox and Opera. */\n",
       "                border: none;\n",
       "                /* Needs to be in here for Safari polyfill so background images work as expected. */\n",
       "                background-size: auto;\n",
       "            }\n",
       "            .progress-bar-interrupted, .progress-bar-interrupted::-webkit-progress-bar {\n",
       "                background: #F44336;\n",
       "            }\n",
       "        </style>\n",
       "      <progress value='12000' class='' max='12000' style='width:300px; height:20px; vertical-align: middle;'></progress>\n",
       "      100.00% [12000/12000 00:04<00:00 Sampling 4 chains, 0 divergences]\n",
       "    </div>\n",
       "    "
      ],
      "text/plain": [
       "<IPython.core.display.HTML object>"
      ]
     },
     "metadata": {},
     "output_type": "display_data"
    },
    {
     "name": "stderr",
     "output_type": "stream",
     "text": [
      "Sampling 4 chains for 1_000 tune and 2_000 draw iterations (4_000 + 8_000 draws total) took 16 seconds.\n"
     ]
    }
   ],
   "source": [
    "u_x = np.random.normal(size=10000)\n",
    "u_y = np.random.normal(size=10000)\n",
    "u_z = np.random.normal(size=10000)\n",
    "\n",
    "X = u_x\n",
    "Y = X/3 + u_y\n",
    "Z = Y/16 + u_z\n",
    "\n",
    "df = pd.DataFrame({\n",
    "    'x': X,\n",
    "    'y': Y,\n",
    "    'z': Z\n",
    "})\n",
    "\n",
    "\n",
    "with pm.Model() as R_ZY_model:\n",
    "    slope_Y = pm.Normal('slope_Y', mu = 0, sd = 5)\n",
    "    mu = pm.Deterministic('mu', slope_Y * Y)\n",
    "    sigma = pm.HalfCauchy('sigma', beta=5)\n",
    "    pm.Normal('Z', mu, sigma, observed=Z)\n",
    "    \n",
    "    R_ZY_traces = pm.sample(2000)"
   ]
  },
  {
   "cell_type": "code",
   "execution_count": 82,
   "metadata": {},
   "outputs": [
    {
     "name": "stderr",
     "output_type": "stream",
     "text": [
      "/Users/danielsanchez/.virtualenv/lib/python3.9/site-packages/arviz/data/io_pymc3.py:87: FutureWarning: Using `from_pymc3` without the model will be deprecated in a future release. Not using the model will return less accurate and less useful results. Make sure you use the model argument or call from_pymc3 within a model context.\n",
      "  warnings.warn(\n"
     ]
    },
    {
     "data": {
      "text/plain": [
       "array([[<AxesSubplot:title={'center':'slope_Y'}>,\n",
       "        <AxesSubplot:title={'center':'slope_Y'}>]], dtype=object)"
      ]
     },
     "execution_count": 82,
     "metadata": {},
     "output_type": "execute_result"
    },
    {
     "data": {
      "image/png": "[encoded data removed]",
      "text/plain": [
       "<Figure size 864x144 with 2 Axes>"
      ]
     },
     "metadata": {
      "needs_background": "light"
     },
     "output_type": "display_data"
    }
   ],
   "source": [
    "pm.traceplot(R_ZY_traces, var_names=['slope_Y'])"
   ]
  },
  {
   "cell_type": "code",
   "execution_count": 83,
   "metadata": {},
   "outputs": [
    {
     "data": {
      "text/plain": [
       "0.16844315678139277"
      ]
     },
     "execution_count": 83,
     "metadata": {},
     "output_type": "execute_result"
    }
   ],
   "source": [
    "(R_ZY_traces['slope_Y']*3).mean()"
   ]
  },
  {
   "cell_type": "code",
   "execution_count": 84,
   "metadata": {},
   "outputs": [
    {
     "data": {
      "text/plain": [
       "0.16860900073737928"
      ]
     },
     "execution_count": 84,
     "metadata": {},
     "output_type": "execute_result"
    }
   ],
   "source": [
    "(np.cov(Z,Y)[0][1] / np.var(Y)) * 3"
   ]
  },
  {
   "cell_type": "markdown",
   "metadata": {},
   "source": [
    "**c) Determine the best guess of the value of $Z$, given that we observe $X=3$**\n",
    "\n",
    "$$R[Z|X=3]=R_{ZX}\\cdot3\\\\=\\frac{\\sigma_{ZX}}{\\sigma_X^2}\\cdot3$$"
   ]
  },
  {
   "cell_type": "code",
   "execution_count": 85,
   "metadata": {},
   "outputs": [
    {
     "name": "stderr",
     "output_type": "stream",
     "text": [
      "Auto-assigning NUTS sampler...\n",
      "Initializing NUTS using jitter+adapt_diag...\n",
      "Multiprocess sampling (4 chains in 4 jobs)\n",
      "NUTS: [sigma, slope_X]\n"
     ]
    },
    {
     "data": {
      "text/html": [
       "\n",
       "    <div>\n",
       "        <style>\n",
       "            /* Turns off some styling */\n",
       "            progress {\n",
       "                /* gets rid of default border in Firefox and Opera. */\n",
       "                border: none;\n",
       "                /* Needs to be in here for Safari polyfill so background images work as expected. */\n",
       "                background-size: auto;\n",
       "            }\n",
       "            .progress-bar-interrupted, .progress-bar-interrupted::-webkit-progress-bar {\n",
       "                background: #F44336;\n",
       "            }\n",
       "        </style>\n",
       "      <progress value='12000' class='' max='12000' style='width:300px; height:20px; vertical-align: middle;'></progress>\n",
       "      100.00% [12000/12000 00:03<00:00 Sampling 4 chains, 0 divergences]\n",
       "    </div>\n",
       "    "
      ],
      "text/plain": [
       "<IPython.core.display.HTML object>"
      ]
     },
     "metadata": {},
     "output_type": "display_data"
    },
    {
     "name": "stderr",
     "output_type": "stream",
     "text": [
      "Sampling 4 chains for 1_000 tune and 2_000 draw iterations (4_000 + 8_000 draws total) took 15 seconds.\n"
     ]
    }
   ],
   "source": [
    "with pm.Model() as R_ZX_model:\n",
    "    slope_X = pm.Normal('slope_X', mu = 0, sd = 5)\n",
    "    mu = pm.Deterministic('mu', slope_X * X)\n",
    "    sigma = pm.HalfCauchy('sigma', beta=5)\n",
    "    pm.Normal('Z', mu, sigma, observed=Z)\n",
    "    \n",
    "    R_ZX_traces = pm.sample(2000)"
   ]
  },
  {
   "cell_type": "code",
   "execution_count": 86,
   "metadata": {},
   "outputs": [
    {
     "name": "stderr",
     "output_type": "stream",
     "text": [
      "/Users/danielsanchez/.virtualenv/lib/python3.9/site-packages/arviz/data/io_pymc3.py:87: FutureWarning: Using `from_pymc3` without the model will be deprecated in a future release. Not using the model will return less accurate and less useful results. Make sure you use the model argument or call from_pymc3 within a model context.\n",
      "  warnings.warn(\n"
     ]
    },
    {
     "data": {
      "text/plain": [
       "array([[<AxesSubplot:title={'center':'slope_X'}>,\n",
       "        <AxesSubplot:title={'center':'slope_X'}>]], dtype=object)"
      ]
     },
     "execution_count": 86,
     "metadata": {},
     "output_type": "execute_result"
    },
    {
     "data": {
      "image/png": "[encoded data removed]",
      "text/plain": [
       "<Figure size 864x144 with 2 Axes>"
      ]
     },
     "metadata": {
      "needs_background": "light"
     },
     "output_type": "display_data"
    }
   ],
   "source": [
    "pm.traceplot(R_ZX_traces, var_names=['slope_X'])"
   ]
  },
  {
   "cell_type": "code",
   "execution_count": 88,
   "metadata": {},
   "outputs": [
    {
     "data": {
      "text/plain": [
       "0.0667886895003672"
      ]
     },
     "execution_count": 88,
     "metadata": {},
     "output_type": "execute_result"
    }
   ],
   "source": [
    "(R_ZX_traces['slope_X']*3).mean()"
   ]
  },
  {
   "cell_type": "code",
   "execution_count": 89,
   "metadata": {},
   "outputs": [
    {
     "data": {
      "text/plain": [
       "0.0665270755801658"
      ]
     },
     "execution_count": 89,
     "metadata": {},
     "output_type": "execute_result"
    }
   ],
   "source": [
    "(np.cov(Z,X)[0][1] / np.var(X)) * 3"
   ]
  },
  {
   "cell_type": "markdown",
   "metadata": {},
   "source": [
    "**d) Determine the best guess of the value of $Z$, given that we observe $X=1$ and $Y=3$.**\n",
    "\n",
    "See b"
   ]
  },
  {
   "cell_type": "code",
   "execution_count": 90,
   "metadata": {},
   "outputs": [
    {
     "name": "stderr",
     "output_type": "stream",
     "text": [
      "Auto-assigning NUTS sampler...\n",
      "Initializing NUTS using jitter+adapt_diag...\n",
      "Multiprocess sampling (4 chains in 4 jobs)\n",
      "NUTS: [sigma, slope_Y, slope_X]\n"
     ]
    },
    {
     "data": {
      "text/html": [
       "\n",
       "    <div>\n",
       "        <style>\n",
       "            /* Turns off some styling */\n",
       "            progress {\n",
       "                /* gets rid of default border in Firefox and Opera. */\n",
       "                border: none;\n",
       "                /* Needs to be in here for Safari polyfill so background images work as expected. */\n",
       "                background-size: auto;\n",
       "            }\n",
       "            .progress-bar-interrupted, .progress-bar-interrupted::-webkit-progress-bar {\n",
       "                background: #F44336;\n",
       "            }\n",
       "        </style>\n",
       "      <progress value='12000' class='' max='12000' style='width:300px; height:20px; vertical-align: middle;'></progress>\n",
       "      100.00% [12000/12000 00:04<00:00 Sampling 4 chains, 0 divergences]\n",
       "    </div>\n",
       "    "
      ],
      "text/plain": [
       "<IPython.core.display.HTML object>"
      ]
     },
     "metadata": {},
     "output_type": "display_data"
    },
    {
     "name": "stderr",
     "output_type": "stream",
     "text": [
      "Sampling 4 chains for 1_000 tune and 2_000 draw iterations (4_000 + 8_000 draws total) took 16 seconds.\n"
     ]
    }
   ],
   "source": [
    "with pm.Model() as full_model:\n",
    "    slope_X = pm.Normal('slope_X', mu = 0, sd = 5)\n",
    "    slope_Y = pm.Normal('slope_Y', mu = 0, sd = 5)\n",
    "    mu = pm.Deterministic('mu', slope_X * X + slope_Y * Y)\n",
    "    sigma = pm.HalfCauchy('sigma', beta=5)\n",
    "    pm.Normal('Z', mu, sigma, observed=Z)\n",
    "    \n",
    "    full_model_traces = pm.sample(2000)"
   ]
  },
  {
   "cell_type": "code",
   "execution_count": 91,
   "metadata": {},
   "outputs": [
    {
     "data": {
      "text/plain": [
       "0.16904286329655915"
      ]
     },
     "execution_count": 91,
     "metadata": {},
     "output_type": "execute_result"
    }
   ],
   "source": [
    "full_model_traces['slope_X'].mean() * 1 + full_model_traces['slope_Y'].mean() * 3"
   ]
  },
  {
   "cell_type": "code",
   "execution_count": 92,
   "metadata": {},
   "outputs": [
    {
     "data": {
      "text/plain": [
       "0.16844315678139277"
      ]
     },
     "execution_count": 92,
     "metadata": {},
     "output_type": "execute_result"
    }
   ],
   "source": [
    "(R_ZY_traces['slope_Y'] * 3).mean()"
   ]
  },
  {
   "cell_type": "markdown",
   "metadata": {},
   "source": [
    "**e) Assume that all exogenous variables are normally distributed with zero means and unit variance, that is, $\\sigma = 1$.**\n",
    "\n",
    "**i) Determine the best guess of $X$, given that we observed $Y=2$.**\n",
    "\n"
   ]
  },
  {
   "cell_type": "code",
   "execution_count": 93,
   "metadata": {},
   "outputs": [
    {
     "data": {
      "text/plain": [
       "0.6142004087898816"
      ]
     },
     "execution_count": 93,
     "metadata": {},
     "output_type": "execute_result"
    }
   ],
   "source": [
    "(np.cov(X,Y)[0][1] / np.var(Y)) * 2"
   ]
  },
  {
   "cell_type": "markdown",
   "metadata": {},
   "source": [
    "**f) Determine the best guess of the value of $Z$, given that we know $X=3$.**"
   ]
  },
  {
   "cell_type": "code",
   "execution_count": 94,
   "metadata": {},
   "outputs": [
    {
     "data": {
      "text/plain": [
       "0.16860900073737928"
      ]
     },
     "execution_count": 94,
     "metadata": {},
     "output_type": "execute_result"
    }
   ],
   "source": [
    "(np.cov(Z,Y)[0][1] / np.var(Y)) * 3"
   ]
  },
  {
   "cell_type": "code",
   "execution_count": null,
   "metadata": {},
   "outputs": [],
   "source": []
  }
 ],
 "metadata": {
  "kernelspec": {
   "display_name": "python3-datascience",
   "language": "python",
   "name": "python3-datascience"
  },
  "language_info": {
   "codemirror_mode": {
    "name": "ipython",
    "version": 3
   },
   "file_extension": ".py",
   "mimetype": "text/x-python",
   "name": "python",
   "nbconvert_exporter": "python",
   "pygments_lexer": "ipython3",
   "version": "3.9.2"
  }
 },
 "nbformat": 4,
 "nbformat_minor": 4
}
